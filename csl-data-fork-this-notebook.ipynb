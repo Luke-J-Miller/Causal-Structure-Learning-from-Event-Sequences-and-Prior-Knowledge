{
 "cells": [
  {
   "cell_type": "markdown",
   "id": "edf5300f",
   "metadata": {
    "papermill": {
     "duration": 0.005975,
     "end_time": "2023-09-05T18:08:14.711668",
     "exception": false,
     "start_time": "2023-09-05T18:08:14.705693",
     "status": "completed"
    },
    "tags": []
   },
   "source": [
    "## Libraries"
   ]
  },
  {
   "cell_type": "code",
   "execution_count": 1,
   "id": "e9d4dd43",
   "metadata": {
    "_cell_guid": "b1076dfc-b9ad-4769-8c92-a6c4dae69d19",
    "_uuid": "8f2839f25d086af736a60e9eeb907d3b93b6e0e5",
    "execution": {
     "iopub.execute_input": "2023-09-05T18:08:14.724989Z",
     "iopub.status.busy": "2023-09-05T18:08:14.724051Z",
     "iopub.status.idle": "2023-09-05T18:08:15.546136Z",
     "shell.execute_reply": "2023-09-05T18:08:15.545001Z"
    },
    "papermill": {
     "duration": 0.832272,
     "end_time": "2023-09-05T18:08:15.549230",
     "exception": false,
     "start_time": "2023-09-05T18:08:14.716958",
     "status": "completed"
    },
    "tags": []
   },
   "outputs": [],
   "source": [
    "from scipy.sparse import csr_matrix  # Used to represent large datasets compactly\n",
    "import numpy as np                   # Linear Algebra.  Arrays\n",
    "import os                            # File Operations\n",
    "import pandas as pd                  # Dataframes\n",
    "import pickle                        # File storage"
   ]
  },
  {
   "cell_type": "markdown",
   "id": "44eb9269",
   "metadata": {
    "papermill": {
     "duration": 0.004774,
     "end_time": "2023-09-05T18:08:15.559176",
     "exception": false,
     "start_time": "2023-09-05T18:08:15.554402",
     "status": "completed"
    },
    "tags": []
   },
   "source": [
    "## Scoring metrics\n",
    "These are the loss metrics used by the competition.  G_score is for individual datasets.  Rank score is for all the datasets together."
   ]
  },
  {
   "cell_type": "code",
   "execution_count": 2,
   "id": "db7ce22c",
   "metadata": {
    "execution": {
     "iopub.execute_input": "2023-09-05T18:08:15.571957Z",
     "iopub.status.busy": "2023-09-05T18:08:15.571293Z",
     "iopub.status.idle": "2023-09-05T18:08:15.578689Z",
     "shell.execute_reply": "2023-09-05T18:08:15.577389Z"
    },
    "papermill": {
     "duration": 0.016786,
     "end_time": "2023-09-05T18:08:15.581177",
     "exception": false,
     "start_time": "2023-09-05T18:08:15.564391",
     "status": "completed"
    },
    "tags": []
   },
   "outputs": [],
   "source": [
    "def g_score(true_positives, false_positives, false_negatives):\n",
    "    return max(0, true_positives - false_positives) / (true_positives + false_negatives + 1e-7)  # Added epsilon to avoid division by zero\n",
    "\n",
    "def rank_score(g_scores):\n",
    "    return sum(1**g for g in g_scores)"
   ]
  },
  {
   "cell_type": "markdown",
   "id": "64aefa1d",
   "metadata": {
    "papermill": {
     "duration": 0.00457,
     "end_time": "2023-09-05T18:08:15.590714",
     "exception": false,
     "start_time": "2023-09-05T18:08:15.586144",
     "status": "completed"
    },
    "tags": []
   },
   "source": [
    "# Dataset Conversion\n",
    "Function used to unpack datasets from their compact form.  Specify datset number ( 0 - 3) and slice ( 0 - 1023 )."
   ]
  },
  {
   "cell_type": "code",
   "execution_count": 3,
   "id": "3429603e",
   "metadata": {
    "execution": {
     "iopub.execute_input": "2023-09-05T18:08:15.603120Z",
     "iopub.status.busy": "2023-09-05T18:08:15.602274Z",
     "iopub.status.idle": "2023-09-05T18:08:15.616210Z",
     "shell.execute_reply": "2023-09-05T18:08:15.614814Z"
    },
    "papermill": {
     "duration": 0.023617,
     "end_time": "2023-09-05T18:08:15.619181",
     "exception": false,
     "start_time": "2023-09-05T18:08:15.595564",
     "status": "completed"
    },
    "tags": []
   },
   "outputs": [],
   "source": [
    "def convert_sparse_to_dense(dataset_num, slice_num):\n",
    "    # Load sparse data\n",
    "    base_path = '/kaggle/input/causal-structure-learning-from-event-sequences/'\n",
    "    data_path = f'{base_path}CSL Sparse Datasets/dataset_{dataset_num}/subfolder_{(slice_num//256)}/dataset_{dataset_num}_{slice_num}.npz'\n",
    "    causal_path = f'{base_path}CSL Sparse Datasets/dataset_{dataset_num}/subfolder_{(slice_num//256)}/dataset_{dataset_num}_{slice_num}_causal.pkl'\n",
    "    mapping_path = f'{base_path}dataset_{dataset_num}_alarm_id_mapping.pkl'\n",
    "    loaded_data = np.load(data_path)\n",
    "    sparse_mat = csr_matrix((loaded_data['data'], loaded_data['indices'], loaded_data['indptr']), shape=loaded_data['shape'])\n",
    "    \n",
    "    # Load causal data and mapping\n",
    "    with open(causal_path, 'rb') as f:\n",
    "        causal_data = pickle.load(f)\n",
    "\n",
    "    causal_data = [np.array(arr, dtype=np.int8) for arr in causal_data]  # Convert to NumPy int8 arrays\n",
    "\n",
    "    with open(mapping_path, 'rb') as f:\n",
    "        alarm_id_mapping = pickle.load(f)\n",
    "\n",
    "    # Initialize the dictionary to hold the dense data\n",
    "    data_dict = {}\n",
    "    \n",
    "    for alarm_id_idx in range(sparse_mat.shape[0]):\n",
    "        alarm_id = alarm_id_mapping[alarm_id_idx]  # Retrieve actual alarm_id from the mapping\n",
    "        row = sparse_mat.getrow(alarm_id_idx).toarray().flatten()\n",
    "        \n",
    "        # Initialize an empty list to hold device arrays for each time_stamp\n",
    "        device_arrays_for_alarm = []\n",
    "        \n",
    "        for time_stamp in range(1024):  # 2 ** 10 = 1024\n",
    "            # Initialize a zero array of size 2**8\n",
    "            device_array = np.zeros(2**8, dtype=int)\n",
    "            \n",
    "            for device_id in range(2**8):\n",
    "                col_index = time_stamp * 2**8 + device_id\n",
    "                \n",
    "                if row[col_index] != 0:\n",
    "                    device_array[device_id] = 1  # Mark device as involved\n",
    "\n",
    "            # Append the device_array to the list for this alarm_id\n",
    "            device_arrays_for_alarm.append(device_array)\n",
    "        \n",
    "        # Insert the full list of device arrays for this alarm_id into the dictionary\n",
    "        data_dict[alarm_id] = device_arrays_for_alarm\n",
    "\n",
    "    # Convert to a DataFrame\n",
    "    final_df = pd.DataFrame.from_dict(data_dict, orient='index', columns=range(1024))\n",
    "\n",
    "    # Add causal_data column to DataFrame\n",
    "    final_df['causal_data'] = final_df.index.map(lambda idx: causal_data[idx])\n",
    "\n",
    "    return final_df"
   ]
  },
  {
   "cell_type": "markdown",
   "id": "fab9ecb3",
   "metadata": {
    "papermill": {
     "duration": 0.004857,
     "end_time": "2023-09-05T18:08:15.629114",
     "exception": false,
     "start_time": "2023-09-05T18:08:15.624257",
     "status": "completed"
    },
    "tags": []
   },
   "source": [
    "# Implementation"
   ]
  },
  {
   "cell_type": "code",
   "execution_count": 4,
   "id": "2976bbde",
   "metadata": {
    "execution": {
     "iopub.execute_input": "2023-09-05T18:08:15.641136Z",
     "iopub.status.busy": "2023-09-05T18:08:15.640407Z",
     "iopub.status.idle": "2023-09-05T18:08:20.771090Z",
     "shell.execute_reply": "2023-09-05T18:08:20.769541Z"
    },
    "papermill": {
     "duration": 5.139955,
     "end_time": "2023-09-05T18:08:20.773927",
     "exception": false,
     "start_time": "2023-09-05T18:08:15.633972",
     "status": "completed"
    },
    "tags": []
   },
   "outputs": [],
   "source": [
    "dataset_num = 0\n",
    "slice_num = 0\n",
    "ds_0_0 = convert_sparse_to_dense(dataset_num, slice_num)"
   ]
  }
 ],
 "kernelspec": {
  "display_name": "Python 3",
  "language": "python",
  "name": "python3"
 },
 "language_info": {
  "codemirror_mode": {
   "name": "ipython",
   "version": 3
  },
  "file_extension": ".py",
  "mimetype": "text/x-python",
  "name": "python",
  "nbconvert_exporter": "python",
  "pygments_lexer": "ipython3",
  "version": "3.6.4"
 },
 "metadata": {
  "kernelspec": {
   "display_name": "Python 3",
   "language": "python",
   "name": "python3"
  },
  "language_info": {
   "codemirror_mode": {
    "name": "ipython",
    "version": 3
   },
   "file_extension": ".py",
   "mimetype": "text/x-python",
   "name": "python",
   "nbconvert_exporter": "python",
   "pygments_lexer": "ipython3",
   "version": "3.10.12"
  },
  "papermill": {
   "default_parameters": {},
   "duration": 10.558306,
   "end_time": "2023-09-05T18:08:21.301159",
   "environment_variables": {},
   "exception": null,
   "input_path": "__notebook__.ipynb",
   "output_path": "__notebook__.ipynb",
   "parameters": {},
   "start_time": "2023-09-05T18:08:10.742853",
   "version": "2.4.0"
  }
 },
 "nbformat": 4,
 "nbformat_minor": 5
}
