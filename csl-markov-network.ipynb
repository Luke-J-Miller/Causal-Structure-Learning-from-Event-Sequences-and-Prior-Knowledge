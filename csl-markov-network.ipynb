{
 "cells": [
  {
   "cell_type": "code",
   "execution_count": 1,
   "id": "72e017bc",
   "metadata": {
    "_cell_guid": "b1076dfc-b9ad-4769-8c92-a6c4dae69d19",
    "_uuid": "8f2839f25d086af736a60e9eeb907d3b93b6e0e5",
    "execution": {
     "iopub.execute_input": "2023-09-04T18:56:34.008929Z",
     "iopub.status.busy": "2023-09-04T18:56:34.008395Z",
     "iopub.status.idle": "2023-09-04T18:56:35.277999Z",
     "shell.execute_reply": "2023-09-04T18:56:35.276759Z"
    },
    "papermill": {
     "duration": 1.282115,
     "end_time": "2023-09-04T18:56:35.281246",
     "exception": false,
     "start_time": "2023-09-04T18:56:33.999131",
     "status": "completed"
    },
    "tags": []
   },
   "outputs": [
    {
     "name": "stderr",
     "output_type": "stream",
     "text": [
      "/opt/conda/lib/python3.10/site-packages/scipy/__init__.py:146: UserWarning: A NumPy version >=1.16.5 and <1.23.0 is required for this version of SciPy (detected version 1.23.5\n",
      "  warnings.warn(f\"A NumPy version >={np_minversion} and <{np_maxversion}\"\n"
     ]
    }
   ],
   "source": [
    "from scipy.sparse import csr_matrix\n",
    "import numpy as np\n",
    "import pandas as pd\n",
    "from multiprocessing import Pool\n",
    "import os\n",
    "import json\n",
    "import zipfile\n",
    "\n",
    "import pickle\n",
    "from sklearn.model_selection import train_test_split\n",
    "from sklearn.metrics import accuracy_score, precision_score, recall_score\n"
   ]
  },
  {
   "cell_type": "code",
   "execution_count": 2,
   "id": "7e7e9785",
   "metadata": {
    "execution": {
     "iopub.execute_input": "2023-09-04T18:56:35.297901Z",
     "iopub.status.busy": "2023-09-04T18:56:35.297450Z",
     "iopub.status.idle": "2023-09-04T18:56:35.303308Z",
     "shell.execute_reply": "2023-09-04T18:56:35.302516Z"
    },
    "papermill": {
     "duration": 0.016667,
     "end_time": "2023-09-04T18:56:35.305447",
     "exception": false,
     "start_time": "2023-09-04T18:56:35.288780",
     "status": "completed"
    },
    "tags": []
   },
   "outputs": [],
   "source": [
    "def g_score(true_positives, false_positives, false_negatives):\n",
    "    return max(0, true_positives - false_positives) / (true_positives + false_negatives + 1e-7)  # Added epsilon to avoid division by zero\n",
    "\n",
    "def rank_score(g_scores):\n",
    "    return sum(1**g for g in g_scores)\n"
   ]
  },
  {
   "cell_type": "code",
   "execution_count": 3,
   "id": "f6515e57",
   "metadata": {
    "execution": {
     "iopub.execute_input": "2023-09-04T18:56:35.321370Z",
     "iopub.status.busy": "2023-09-04T18:56:35.320770Z",
     "iopub.status.idle": "2023-09-04T18:56:35.332249Z",
     "shell.execute_reply": "2023-09-04T18:56:35.330919Z"
    },
    "papermill": {
     "duration": 0.022815,
     "end_time": "2023-09-04T18:56:35.335301",
     "exception": false,
     "start_time": "2023-09-04T18:56:35.312486",
     "status": "completed"
    },
    "tags": []
   },
   "outputs": [],
   "source": [
    "class GCNLayer:\n",
    "    def __init__(self, input_dim, output_dim):\n",
    "        self.weights = initialize_weights(input_dim, output_dim)\n",
    "        self.grads = np.zeros_like(self.weights)\n",
    "\n",
    "    def relu(self, x):\n",
    "        return np.maximum(0, x)\n",
    "\n",
    "    def sigmoid(self, x):\n",
    "        return 1 / (1 + np.exp(-x))\n",
    "\n",
    "    def forward(self, A, X):\n",
    "        return self.relu(A @ X @ self.weights)\n",
    "    \n",
    "    def backward(self, d_loss):\n",
    "        # Compute gradients using the chain rule\n",
    "        self.grads = d_loss  # Update this as per your specific loss and activation\n",
    "        return self.grads\n",
    "\n",
    "class GCN:\n",
    "    def __init__(self, input_dim, hidden_dim, output_dim):\n",
    "        self.gcn1 = GCNLayer(input_dim, hidden_dim)\n",
    "        self.gcn2 = GCNLayer(hidden_dim, output_dim)\n",
    "\n",
    "    def forward(self, A, X):\n",
    "        self.H1 = self.gcn1.forward(A, X)\n",
    "        self.H2 = self.gcn2.forward(A, self.H1)\n",
    "        return self.H2\n",
    "\n",
    "    def backward(self, d_loss):\n",
    "        # Backward pass for the second layer\n",
    "        d_loss2 = self.gcn2.backward(d_loss)\n",
    "        \n",
    "        # Backward pass for the first layer\n",
    "        d_loss1 = self.gcn1.backward(d_loss2)\n",
    "        \n",
    "    def update_weights(self, learning_rate):\n",
    "        self.gcn1.weights -= learning_rate * self.gcn1.grads\n",
    "        self.gcn2.weights -= learning_rate * self.gcn2.grads\n"
   ]
  },
  {
   "cell_type": "code",
   "execution_count": 4,
   "id": "3a739286",
   "metadata": {
    "execution": {
     "iopub.execute_input": "2023-09-04T18:56:35.351520Z",
     "iopub.status.busy": "2023-09-04T18:56:35.350631Z",
     "iopub.status.idle": "2023-09-04T18:56:35.365803Z",
     "shell.execute_reply": "2023-09-04T18:56:35.364521Z"
    },
    "papermill": {
     "duration": 0.026262,
     "end_time": "2023-09-04T18:56:35.368604",
     "exception": false,
     "start_time": "2023-09-04T18:56:35.342342",
     "status": "completed"
    },
    "tags": []
   },
   "outputs": [],
   "source": [
    "from scipy.sparse import csr_matrix\n",
    "import numpy as np\n",
    "import pandas as pd\n",
    "from multiprocessing import Pool\n",
    "import zipfile\n",
    "import pickle\n",
    "\n",
    "def create_datasets_core_logic(args):\n",
    "    idx, alarm, causal = args\n",
    "    unique_alarm_ids = alarm['alarm_id'].unique()\n",
    "    n_alarms = len(unique_alarm_ids)\n",
    "    \n",
    "    for window in range(2**10):\n",
    "        data, row_indices, col_indices = [], [], []\n",
    "        \n",
    "        for alarm_id_idx, alarm_id in enumerate(unique_alarm_ids):\n",
    "            rows = alarm[alarm['alarm_id'] == alarm_id]\n",
    "            \n",
    "            for _, row in rows.iterrows():\n",
    "                for t in range(row['start_timestamp'], row['end_timestamp']):\n",
    "                    if t // 2**10 == window:\n",
    "                        data.append(1)\n",
    "                        row_indices.append(alarm_id_idx)\n",
    "                        col_indices.append(t % 2**10 * 2**8 + row['device_id'])\n",
    "        \n",
    "        sparse_matrix = csr_matrix((data, (row_indices, col_indices)), shape=(n_alarms, 2**10 * 2**8))\n",
    "        with open(f\"dataset_{idx}_{window}_causal.pkl\", 'wb') as f:\n",
    "            pickle.dump([causal[alarm_id] for alarm_id in unique_alarm_ids], f)\n",
    "\n",
    "        np.savez(f\"dataset_{idx}_{window}.npz\", data=sparse_matrix.data, indices=sparse_matrix.indices, indptr=sparse_matrix.indptr, shape=sparse_matrix.shape)\n",
    "\n",
    "def create_datasets(dataset_list):\n",
    "    pool = True\n",
    "    if pool:\n",
    "        with Pool() as pool:\n",
    "            pool.map(create_datasets_core_logic, [(idx, alarm, causal) for idx, (alarm, causal) in enumerate(dataset_list)])\n",
    "    else:\n",
    "        for idx, (alarm, causal) in enumerate(dataset_list):\n",
    "            create_datasets_core_logic((idx, alarm, causal))\n",
    "    \n",
    "    with zipfile.ZipFile('Datasets.zip', 'w', zipfile.ZIP_DEFLATED) as zipf:\n",
    "        for idx, _ in enumerate(dataset_list):\n",
    "            for window in range(2**10):\n",
    "                zipf.write(f\"dataset_{idx}_{window}.npz\")\n",
    "                zipf.write(f\"dataset_{idx}_{window}_causal.pkl\")\n"
   ]
  },
  {
   "cell_type": "code",
   "execution_count": 5,
   "id": "cf10b04f",
   "metadata": {
    "execution": {
     "iopub.execute_input": "2023-09-04T18:56:35.384458Z",
     "iopub.status.busy": "2023-09-04T18:56:35.384050Z",
     "iopub.status.idle": "2023-09-04T18:56:35.964276Z",
     "shell.execute_reply": "2023-09-04T18:56:35.963244Z"
    },
    "papermill": {
     "duration": 0.591137,
     "end_time": "2023-09-04T18:56:35.966905",
     "exception": false,
     "start_time": "2023-09-04T18:56:35.375768",
     "status": "completed"
    },
    "tags": []
   },
   "outputs": [],
   "source": [
    "alarm1 = pd.read_csv('/kaggle/input/causal-structure-learning-from-event-sequences/datasets/dataset_1/alarm.csv')\n",
    "causal1 = np.load('/kaggle/input/causal-structure-learning-from-event-sequences/datasets/dataset_1/causal_prior.npy' , allow_pickle = True)\n",
    "\n",
    "alarm2 = pd.read_csv('/kaggle/input/causal-structure-learning-from-event-sequences/datasets/dataset_2/alarm.csv')\n",
    "causal2 = np.load('/kaggle/input/causal-structure-learning-from-event-sequences/datasets/dataset_2/causal_prior.npy' , allow_pickle = True)\n",
    "\n",
    "alarm3 = pd.read_csv('/kaggle/input/causal-structure-learning-from-event-sequences/datasets/dataset_3/alarm.csv')\n",
    "causal3 = np.load('/kaggle/input/causal-structure-learning-from-event-sequences/datasets/dataset_3/causal_prior.npy' , allow_pickle = True)\n",
    "\n",
    "alarm4 = pd.read_csv('/kaggle/input/causal-structure-learning-from-event-sequences/datasets/dataset_4/alarm.csv')\n",
    "causal4 = np.load('/kaggle/input/causal-structure-learning-from-event-sequences/datasets/dataset_4/causal_prior.npy' , allow_pickle = True)\n",
    "\n",
    "rca1 = pd.read_csv('/kaggle/input/causal-structure-learning-from-event-sequences/datasets/dataset_1/rca_prior.csv')\n",
    "topology1 = np.load('/kaggle/input/causal-structure-learning-from-event-sequences/datasets/dataset_1/topology.npy' , allow_pickle = True)\n",
    "rca2 = pd.read_csv('/kaggle/input/causal-structure-learning-from-event-sequences/datasets/dataset_2/rca_prior.csv')\n",
    "topology2 = np.load('/kaggle/input/causal-structure-learning-from-event-sequences/datasets/dataset_2/topology.npy' , allow_pickle = True)\n",
    "rca3 = pd.read_csv('/kaggle/input/causal-structure-learning-from-event-sequences/datasets/dataset_3/rca_prior.csv')\n",
    "topology3 = np.load('/kaggle/input/causal-structure-learning-from-event-sequences/datasets/dataset_3/topology.npy' , allow_pickle = True)\n",
    "\n",
    "dataset_list = [(alarm1, causal1), (alarm2, causal2), (alarm3, causal3), (alarm4, causal4)]"
   ]
  },
  {
   "cell_type": "code",
   "execution_count": 6,
   "id": "e5e87235",
   "metadata": {
    "execution": {
     "iopub.execute_input": "2023-09-04T18:56:35.982939Z",
     "iopub.status.busy": "2023-09-04T18:56:35.981653Z",
     "iopub.status.idle": "2023-09-05T05:31:33.085790Z",
     "shell.execute_reply": "2023-09-05T05:31:33.083480Z"
    },
    "papermill": {
     "duration": 38097.115914,
     "end_time": "2023-09-05T05:31:33.089654",
     "exception": false,
     "start_time": "2023-09-04T18:56:35.973740",
     "status": "completed"
    },
    "tags": []
   },
   "outputs": [],
   "source": [
    "create_datasets(dataset_list)"
   ]
  },
  {
   "cell_type": "code",
   "execution_count": 7,
   "id": "f6194caa",
   "metadata": {
    "execution": {
     "iopub.execute_input": "2023-09-05T05:31:33.107859Z",
     "iopub.status.busy": "2023-09-05T05:31:33.106568Z",
     "iopub.status.idle": "2023-09-05T05:31:33.874769Z",
     "shell.execute_reply": "2023-09-05T05:31:33.873116Z"
    },
    "papermill": {
     "duration": 0.779588,
     "end_time": "2023-09-05T05:31:33.877278",
     "exception": false,
     "start_time": "2023-09-05T05:31:33.097690",
     "status": "completed"
    },
    "tags": []
   },
   "outputs": [
    {
     "name": "stdout",
     "output_type": "stream",
     "text": [
      "616313\n",
      "49\n",
      "100\n",
      "\n",
      "39\n",
      "49\n",
      "31\n",
      "30\n",
      "\n",
      "35\n",
      "42\n",
      "39\n",
      "100\n",
      "\n",
      "203619\n",
      "147963\n",
      "241340\n",
      "223427\n"
     ]
    }
   ],
   "source": [
    "\n",
    "times = {}\n",
    "alarms = {}\n",
    "devices = {}\n",
    "times_list = []\n",
    "alarms_list = []\n",
    "devices_list = []\n",
    "for i, (alarm, _) in enumerate(dataset_list):\n",
    "    times[i] = list(alarm['start_timestamp'].unique())+list(alarm['end_timestamp'].unique())\n",
    "    times_list += times[i]\n",
    "    alarms[i] = list(alarm['alarm_id'].unique())\n",
    "    alarms_list += alarms[i]\n",
    "    devices[i] = list(alarm['device_id'].unique())\n",
    "    devices_list += devices[i]\n",
    "times = len(set(times_list))\n",
    "alarms = len(set(alarms_list))\n",
    "devices = len(set(devices_list))\n",
    "print(times)\n",
    "print(alarms)\n",
    "print(devices)\n",
    "print()\n",
    "print(len(alarm1['alarm_id'].unique()))\n",
    "print(len(alarm2['alarm_id'].unique()))\n",
    "print(len(alarm3['alarm_id'].unique()))\n",
    "print(len(alarm4['alarm_id'].unique()))\n",
    "print()\n",
    "print(len(alarm1['device_id'].unique()))\n",
    "print(len(alarm2['device_id'].unique()))\n",
    "print(len(alarm3['device_id'].unique()))\n",
    "print(len(alarm4['device_id'].unique()))\n",
    "print()\n",
    "print(len(set(list(alarm1['start_timestamp'].unique())+list(alarm1['end_timestamp'].unique()))))\n",
    "print(len(set(list(alarm2['start_timestamp'].unique())+list(alarm2['end_timestamp'].unique()))))\n",
    "print(len(set(list(alarm3['start_timestamp'].unique())+list(alarm3['end_timestamp'].unique()))))\n",
    "print(len(set(list(alarm4['start_timestamp'].unique())+list(alarm4['end_timestamp'].unique()))))\n",
    "# Generate the dataset\n",
    "###new_dataset = create_dataset(dataset_list)"
   ]
  },
  {
   "cell_type": "code",
   "execution_count": 8,
   "id": "dc6fddd2",
   "metadata": {
    "execution": {
     "iopub.execute_input": "2023-09-05T05:31:33.893078Z",
     "iopub.status.busy": "2023-09-05T05:31:33.892655Z",
     "iopub.status.idle": "2023-09-05T05:31:33.900337Z",
     "shell.execute_reply": "2023-09-05T05:31:33.898694Z"
    },
    "papermill": {
     "duration": 0.018376,
     "end_time": "2023-09-05T05:31:33.902619",
     "exception": false,
     "start_time": "2023-09-05T05:31:33.884243",
     "status": "completed"
    },
    "tags": []
   },
   "outputs": [
    {
     "name": "stdout",
     "output_type": "stream",
     "text": [
      "[0, 1, 2, 3, 4, 5, 6, 7, 8, 9, 10, 11, 12, 13, 14, 15, 16, 17, 18, 19, 20, 21, 22, 23, 24, 25, 26, 27, 28, 29, 30, 31, 32, 33, 34, 35, 36, 37, 38]\n"
     ]
    }
   ],
   "source": [
    "print(sorted(list(alarm1['alarm_id'].unique())))"
   ]
  },
  {
   "cell_type": "code",
   "execution_count": 9,
   "id": "8d0f0575",
   "metadata": {
    "execution": {
     "iopub.execute_input": "2023-09-05T05:31:33.918638Z",
     "iopub.status.busy": "2023-09-05T05:31:33.918261Z",
     "iopub.status.idle": "2023-09-05T05:31:33.949027Z",
     "shell.execute_reply": "2023-09-05T05:31:33.947221Z"
    },
    "papermill": {
     "duration": 0.041648,
     "end_time": "2023-09-05T05:31:33.951531",
     "exception": false,
     "start_time": "2023-09-05T05:31:33.909883",
     "status": "completed"
    },
    "tags": []
   },
   "outputs": [
    {
     "name": "stdout",
     "output_type": "stream",
     "text": [
      "2392489\n"
     ]
    }
   ],
   "source": [
    "print(max(list(alarm4['end_timestamp'])))"
   ]
  },
  {
   "cell_type": "code",
   "execution_count": 10,
   "id": "97b2ecc6",
   "metadata": {
    "execution": {
     "iopub.execute_input": "2023-09-05T05:31:33.967966Z",
     "iopub.status.busy": "2023-09-05T05:31:33.967525Z",
     "iopub.status.idle": "2023-09-05T05:31:33.992762Z",
     "shell.execute_reply": "2023-09-05T05:31:33.991496Z"
    },
    "papermill": {
     "duration": 0.036624,
     "end_time": "2023-09-05T05:31:33.995567",
     "exception": false,
     "start_time": "2023-09-05T05:31:33.958943",
     "status": "completed"
    },
    "tags": []
   },
   "outputs": [
    {
     "name": "stdout",
     "output_type": "stream",
     "text": [
      "117367\n"
     ]
    }
   ],
   "source": [
    "print(len(list(alarm4['start_timestamp'].unique())))"
   ]
  },
  {
   "cell_type": "code",
   "execution_count": 11,
   "id": "54e0e714",
   "metadata": {
    "execution": {
     "iopub.execute_input": "2023-09-05T05:31:34.014426Z",
     "iopub.status.busy": "2023-09-05T05:31:34.013999Z",
     "iopub.status.idle": "2023-09-05T05:31:34.050826Z",
     "shell.execute_reply": "2023-09-05T05:31:34.049930Z"
    },
    "papermill": {
     "duration": 0.048905,
     "end_time": "2023-09-05T05:31:34.053195",
     "exception": false,
     "start_time": "2023-09-05T05:31:34.004290",
     "status": "completed"
    },
    "tags": []
   },
   "outputs": [
    {
     "data": {
      "text/html": [
       "<div>\n",
       "<style scoped>\n",
       "    .dataframe tbody tr th:only-of-type {\n",
       "        vertical-align: middle;\n",
       "    }\n",
       "\n",
       "    .dataframe tbody tr th {\n",
       "        vertical-align: top;\n",
       "    }\n",
       "\n",
       "    .dataframe thead th {\n",
       "        text-align: right;\n",
       "    }\n",
       "</style>\n",
       "<table border=\"1\" class=\"dataframe\">\n",
       "  <thead>\n",
       "    <tr style=\"text-align: right;\">\n",
       "      <th></th>\n",
       "      <th>alarm_id</th>\n",
       "      <th>device_id</th>\n",
       "      <th>start_timestamp</th>\n",
       "      <th>end_timestamp</th>\n",
       "    </tr>\n",
       "  </thead>\n",
       "  <tbody>\n",
       "    <tr>\n",
       "      <th>0</th>\n",
       "      <td>27</td>\n",
       "      <td>68</td>\n",
       "      <td>3</td>\n",
       "      <td>18067</td>\n",
       "    </tr>\n",
       "    <tr>\n",
       "      <th>1</th>\n",
       "      <td>16</td>\n",
       "      <td>58</td>\n",
       "      <td>3</td>\n",
       "      <td>18071</td>\n",
       "    </tr>\n",
       "    <tr>\n",
       "      <th>2</th>\n",
       "      <td>16</td>\n",
       "      <td>2</td>\n",
       "      <td>10</td>\n",
       "      <td>18082</td>\n",
       "    </tr>\n",
       "    <tr>\n",
       "      <th>3</th>\n",
       "      <td>27</td>\n",
       "      <td>58</td>\n",
       "      <td>16</td>\n",
       "      <td>18086</td>\n",
       "    </tr>\n",
       "    <tr>\n",
       "      <th>4</th>\n",
       "      <td>27</td>\n",
       "      <td>2</td>\n",
       "      <td>24</td>\n",
       "      <td>18088</td>\n",
       "    </tr>\n",
       "    <tr>\n",
       "      <th>...</th>\n",
       "      <td>...</td>\n",
       "      <td>...</td>\n",
       "      <td>...</td>\n",
       "      <td>...</td>\n",
       "    </tr>\n",
       "    <tr>\n",
       "      <th>126798</th>\n",
       "      <td>21</td>\n",
       "      <td>24</td>\n",
       "      <td>2332760</td>\n",
       "      <td>2333009</td>\n",
       "    </tr>\n",
       "    <tr>\n",
       "      <th>126799</th>\n",
       "      <td>27</td>\n",
       "      <td>17</td>\n",
       "      <td>2332762</td>\n",
       "      <td>2350823</td>\n",
       "    </tr>\n",
       "    <tr>\n",
       "      <th>126800</th>\n",
       "      <td>22</td>\n",
       "      <td>52</td>\n",
       "      <td>2332770</td>\n",
       "      <td>2332897</td>\n",
       "    </tr>\n",
       "    <tr>\n",
       "      <th>126801</th>\n",
       "      <td>20</td>\n",
       "      <td>33</td>\n",
       "      <td>2332789</td>\n",
       "      <td>2332821</td>\n",
       "    </tr>\n",
       "    <tr>\n",
       "      <th>126802</th>\n",
       "      <td>21</td>\n",
       "      <td>37</td>\n",
       "      <td>2332790</td>\n",
       "      <td>2339592</td>\n",
       "    </tr>\n",
       "  </tbody>\n",
       "</table>\n",
       "<p>126803 rows × 4 columns</p>\n",
       "</div>"
      ],
      "text/plain": [
       "        alarm_id  device_id  start_timestamp  end_timestamp\n",
       "0             27         68                3          18067\n",
       "1             16         58                3          18071\n",
       "2             16          2               10          18082\n",
       "3             27         58               16          18086\n",
       "4             27          2               24          18088\n",
       "...          ...        ...              ...            ...\n",
       "126798        21         24          2332760        2333009\n",
       "126799        27         17          2332762        2350823\n",
       "126800        22         52          2332770        2332897\n",
       "126801        20         33          2332789        2332821\n",
       "126802        21         37          2332790        2339592\n",
       "\n",
       "[126803 rows x 4 columns]"
      ]
     },
     "execution_count": 11,
     "metadata": {},
     "output_type": "execute_result"
    }
   ],
   "source": [
    "alarm4\n"
   ]
  },
  {
   "cell_type": "code",
   "execution_count": 12,
   "id": "20403995",
   "metadata": {
    "execution": {
     "iopub.execute_input": "2023-09-05T05:31:34.072016Z",
     "iopub.status.busy": "2023-09-05T05:31:34.070623Z",
     "iopub.status.idle": "2023-09-05T05:31:34.141124Z",
     "shell.execute_reply": "2023-09-05T05:31:34.139232Z"
    },
    "papermill": {
     "duration": 0.08289,
     "end_time": "2023-09-05T05:31:34.143958",
     "exception": false,
     "start_time": "2023-09-05T05:31:34.061068",
     "status": "completed"
    },
    "tags": []
   },
   "outputs": [
    {
     "name": "stdout",
     "output_type": "stream",
     "text": [
      "                   0\n",
      "count  141853.000000\n",
      "mean       58.240643\n",
      "std        40.794314\n",
      "min         0.000000\n",
      "25%        31.000000\n",
      "50%        47.000000\n",
      "75%        84.000000\n",
      "max       512.000000\n",
      "                   0\n",
      "count  132688.000000\n",
      "mean       31.529957\n",
      "std        28.788882\n",
      "min         0.000000\n",
      "25%        11.000000\n",
      "50%        25.000000\n",
      "75%        41.000000\n",
      "max       703.000000\n",
      "                   0\n",
      "count  198962.000000\n",
      "mean       61.086424\n",
      "std        35.611934\n",
      "min         0.000000\n",
      "25%        38.000000\n",
      "50%        49.000000\n",
      "75%        84.000000\n",
      "max       680.000000\n",
      "                   0\n",
      "count  126803.000000\n",
      "mean     1598.319464\n",
      "std      8763.418705\n",
      "min         0.000000\n",
      "25%        64.000000\n",
      "50%       134.000000\n",
      "75%       598.000000\n",
      "max    250949.000000\n"
     ]
    }
   ],
   "source": [
    "ala1 = pd.DataFrame(alarm1['end_timestamp'] - alarm1['start_timestamp'])\n",
    "ala2 = pd.DataFrame(alarm2['end_timestamp'] - alarm2['start_timestamp'])\n",
    "ala3 = pd.DataFrame(alarm3['end_timestamp'] - alarm3['start_timestamp'])\n",
    "ala4 = pd.DataFrame(alarm4['end_timestamp'] - alarm4['start_timestamp'])\n",
    "\n",
    "print(ala1.describe())\n",
    "print(ala2.describe())\n",
    "print(ala3.describe())\n",
    "print(ala4.describe())"
   ]
  },
  {
   "cell_type": "code",
   "execution_count": null,
   "id": "2b70f007",
   "metadata": {
    "papermill": {
     "duration": 0.008811,
     "end_time": "2023-09-05T05:31:34.161349",
     "exception": false,
     "start_time": "2023-09-05T05:31:34.152538",
     "status": "completed"
    },
    "tags": []
   },
   "outputs": [],
   "source": []
  }
 ],
 "kernelspec": {
  "display_name": "Python 3",
  "language": "python",
  "name": "python3"
 },
 "language_info": {
  "codemirror_mode": {
   "name": "ipython",
   "version": 3
  },
  "file_extension": ".py",
  "mimetype": "text/x-python",
  "name": "python",
  "nbconvert_exporter": "python",
  "pygments_lexer": "ipython3",
  "version": "3.6.4"
 },
 "metadata": {
  "kernelspec": {
   "display_name": "Python 3",
   "language": "python",
   "name": "python3"
  },
  "language_info": {
   "codemirror_mode": {
    "name": "ipython",
    "version": 3
   },
   "file_extension": ".py",
   "mimetype": "text/x-python",
   "name": "python",
   "nbconvert_exporter": "python",
   "pygments_lexer": "ipython3",
   "version": "3.10.12"
  },
  "papermill": {
   "default_parameters": {},
   "duration": 38113.262525,
   "end_time": "2023-09-05T05:31:35.488679",
   "environment_variables": {},
   "exception": null,
   "input_path": "__notebook__.ipynb",
   "output_path": "__notebook__.ipynb",
   "parameters": {},
   "start_time": "2023-09-04T18:56:22.226154",
   "version": "2.4.0"
  }
 },
 "nbformat": 4,
 "nbformat_minor": 5
}
